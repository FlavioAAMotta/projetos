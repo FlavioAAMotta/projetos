{
 "cells": [
  {
   "cell_type": "markdown",
   "metadata": {},
   "source": [
    "# <center> $\\underline{\\textbf{AAG04 - Comparações Experimentais}}$ <p><center> Flávio Motta"
   ]
  },
  {
   "cell_type": "markdown",
   "metadata": {},
   "source": [
    "## $\\textbf{1. Contexto}$"
   ]
  },
  {
   "cell_type": "markdown",
   "metadata": {},
   "source": [
    "<p>É possível comparar desempenho de alunos em determinada prova em anos diferentes, dessa forma pode-se entender que os alunos podem ter melhorado/piorado o nível de estudo, ou que a prova pode ter ficado mais fácil/difícil\n",
    "<p>Tanto no ano de 2011 quanto no ano de 2019 foram realizado o exame nacional do POSCOMP, com os seguintes dados:\n",
    "    \n",
    "|Característica| 2011 | 2019\n",
    "| --- | --- | --- |\n",
    "| \\begin{equation} \\mu \\end{equation} | 24 | 28.67\n",
    "| \\begin{equation} \\sigma \\end{equation} | 7.1 | 8.35\n",
    "| \\begin{equation} N \\end{equation} | 29 | 29\n",
    "\n",
    "<p> Supondo que tenha-se uma distribuição normal das notas em ambos anos, pode-se gerar a seguinte distribuição:\n"
   ]
  },
  {
   "cell_type": "markdown",
   "metadata": {},
   "source": [
    "## $\\textbf{2. Código}$"
   ]
  },
  {
   "cell_type": "markdown",
   "metadata": {},
   "source": [
    "### 2.1. Importando as bibliotecas necessarias"
   ]
  },
  {
   "cell_type": "code",
   "execution_count": 11,
   "metadata": {},
   "outputs": [],
   "source": [
    "import matplotlib.pyplot as plt\n",
    "import numpy as np\n",
    "import scipy.stats as stats\n",
    "import math"
   ]
  },
  {
   "cell_type": "markdown",
   "metadata": {},
   "source": [
    "### 2.1. Declaração de variáveis importantes"
   ]
  },
  {
   "cell_type": "code",
   "execution_count": 40,
   "metadata": {},
   "outputs": [],
   "source": [
    "mu2011, sigma2011, mu2019, sigma2019, n = 24, 7.1, 28.67, 8.35, 29"
   ]
  },
  {
   "cell_type": "markdown",
   "metadata": {},
   "source": [
    "### 2.2. Gerando uma distribuição normal (p-value acima de 0.8 no teste de Kolmogorov) para o ano de 2011"
   ]
  },
  {
   "cell_type": "code",
   "execution_count": 41,
   "metadata": {},
   "outputs": [
    {
     "name": "stdout",
     "output_type": "stream",
     "text": [
      "p-value calculado através do teste de Kolmogorov da distribuição de 2011:  0.9196302543488407\n"
     ]
    }
   ],
   "source": [
    "ehNormal = False\n",
    "while(ehNormal == False): #Repetição para encontrar uma distribuição que atenda uma distribuição normal no teste de Kolmogorov (p-value pelo menos 0.8)\n",
    "    s = np.random.normal(mu2011, sigma2011, n) #Gera a distribuição aleatoria com os dados\n",
    "    dist2011 = s.astype(int) #Converte o vetor para inteiros\n",
    "    d = stats.kstest(dist2011, 'norm', args=(mu2011, sigma2011))#Realiza o teste de Kolmogorov\n",
    "    if d[1] > 0.8:\n",
    "        ehNormal = True #Dessa forma a distribuição \"passou\" no teste de normalidade\n",
    "print('p-value calculado através do teste de Kolmogorov da distribuição de 2011: ',d[1]) #p-value da distribuicao criada para 2011"
   ]
  },
  {
   "cell_type": "markdown",
   "metadata": {},
   "source": [
    "### 2.3. Gerando uma distribuição normal (p-value acima de 0.8 no teste de Kolmogorov) para o ano de 2019"
   ]
  },
  {
   "cell_type": "code",
   "execution_count": 42,
   "metadata": {},
   "outputs": [
    {
     "name": "stdout",
     "output_type": "stream",
     "text": [
      "p-value calculado através do teste de Kolmogorov da distribuição de 2019:  0.9896430144527493\n"
     ]
    }
   ],
   "source": [
    "ehNormal = False\n",
    "while(ehNormal == False): #Repetição para encontrar uma distribuição que atenda uma distribuição normal no teste de Kolmogorov (p-value pelo menos 0.8)\n",
    "    s = np.random.normal(mu2019, sigma2019, n) #Gera a distribuição aleatoria com os dados\n",
    "    dist2019 = s.astype(int) #Converte o vetor para inteiros\n",
    "    d = stats.kstest(dist2019, 'norm', args=(mu2019, sigma2019))#Realiza o teste de Kolmogorov\n",
    "    if d[1] > 0.8:\n",
    "        ehNormal = True #Dessa forma a distribuição \"passou\" no teste de normalidade\n",
    "print('p-value calculado através do teste de Kolmogorov da distribuição de 2019: ',d[1]) #p-value da distribuicao criada para 2019"
   ]
  },
  {
   "cell_type": "markdown",
   "metadata": {},
   "source": [
    "### 2.4. Gerando um histograma para ter um \"feedback\" visual do que foi gerado"
   ]
  },
  {
   "cell_type": "code",
   "execution_count": 43,
   "metadata": {},
   "outputs": [
    {
     "data": {
      "image/png": "[encoded data removed]",
      "text/plain": [
       "<Figure size 432x288 with 1 Axes>"
      ]
     },
     "metadata": {
      "needs_background": "light"
     },
     "output_type": "display_data"
    },
    {
     "data": {
      "image/png": "[encoded data removed]",
      "text/plain": [
       "<Figure size 432x288 with 1 Axes>"
      ]
     },
     "metadata": {
      "needs_background": "light"
     },
     "output_type": "display_data"
    }
   ],
   "source": [
    "#2011\n",
    "count, bins, ignored = plt.hist(dist2011, 20, density=True) #tentei visualizar a melhor forma de definir os bins\n",
    "plt.plot(bins, 1/(sigma2011 * np.sqrt(2 * np.pi)) *\n",
    "np.exp( - (bins - mu2011)**2 / (2 * sigma2019**2) ),\n",
    "linewidth=2, color='r')\n",
    "plt.show()\n",
    "#2019\n",
    "count, bins, ignored = plt.hist(dist2019, 20, density=True)\n",
    "plt.plot(bins, 1/(sigma2019 * np.sqrt(2 * np.pi)) *\n",
    "np.exp( - (bins - mu2019)**2 / (2 * sigma2019**2) ),\n",
    "linewidth=2, color='r')\n",
    "plt.show()"
   ]
  },
  {
   "cell_type": "markdown",
   "metadata": {},
   "source": [
    "### 2.5. Verificando teste t"
   ]
  },
  {
   "cell_type": "code",
   "execution_count": 44,
   "metadata": {},
   "outputs": [
    {
     "name": "stdout",
     "output_type": "stream",
     "text": [
      "t:  -1.9056951288519586 \n",
      "p:  0.06182797116507962\n"
     ]
    }
   ],
   "source": [
    "t,p = stats.ttest_ind(dist2011,dist2019)\n",
    "print('t: ',t,\"\\np: \",p)"
   ]
  },
  {
   "cell_type": "markdown",
   "metadata": {},
   "source": [
    "Para o teste t, tivemos o valor de p relativamente baixo (6%), indicando que a chance da diferença ser ao acaso é relativamente baixa."
   ]
  },
  {
   "cell_type": "markdown",
   "metadata": {},
   "source": [
    "### 2.6 Calculos de intervalo de confiança\n",
    "#### 2.6.1 Calculo de limite inferior e superior de ambas amostras com nível de confiança em 90%"
   ]
  },
  {
   "cell_type": "code",
   "execution_count": 46,
   "metadata": {},
   "outputs": [
    {
     "name": "stdout",
     "output_type": "stream",
     "text": [
      "21.759808228634867\n",
      "26.240191771365133\n",
      "26.035408268887483\n",
      "31.30459173111252\n"
     ]
    }
   ],
   "source": [
    "intervalo = 0.9\n",
    "t = stats.t.ppf((intervalo+1)/2,29)\n",
    "limiteInferior2011 = mu2011 - t * sigma2011 / math.sqrt(n)\n",
    "limiteSuperior2011 = mu2011 + t * sigma2011 / math.sqrt(n)\n",
    "limiteInferior2019 = mu2019 - t * sigma2019 / math.sqrt(n)\n",
    "limiteSuperior2019 = mu2019 + t * sigma2019 / math.sqrt(n)\n",
    "print(limiteInferior2011)\n",
    "print(limiteSuperior2011)\n",
    "print(limiteInferior2019)\n",
    "print(limiteSuperior2019)"
   ]
  },
  {
   "cell_type": "markdown",
   "metadata": {},
   "source": [
    "Para essa distribuição gerada, com um intervalo de confiança em 90% os limites superior de 2011 e o inferior de 2019 já estão em um mesmo intervalo. Dessa forma como a média de um não está contida no intervalo de outro, lembrando que a média de 2011 é 24 e de 2019 é 28.67, o teste-t faz-se necessário para tirar conclusões."
   ]
  },
  {
   "cell_type": "markdown",
   "metadata": {},
   "source": [
    "#### 2.6.2 Calculo de limite inferior e superior de ambas amostras com nível de confiança em 95%"
   ]
  },
  {
   "cell_type": "code",
   "execution_count": 50,
   "metadata": {},
   "outputs": [
    {
     "name": "stdout",
     "output_type": "stream",
     "text": [
      "21.303493768676503\n",
      "26.696506231323497\n",
      "25.49875675611955\n",
      "31.841243243880452\n"
     ]
    }
   ],
   "source": [
    "intervalo = 0.95\n",
    "t = stats.t.ppf((intervalo+1)/2,29)\n",
    "limiteInferior2011 = mu2011 - t * sigma2011 / math.sqrt(n)\n",
    "limiteSuperior2011 = mu2011 + t * sigma2011 / math.sqrt(n)\n",
    "limiteInferior2019 = mu2019 - t * sigma2019 / math.sqrt(n)\n",
    "limiteSuperior2019 = mu2019 + t * sigma2019 / math.sqrt(n)\n",
    "print(limiteInferior2011)\n",
    "print(limiteSuperior2011)\n",
    "print(limiteInferior2019)\n",
    "print(limiteSuperior2019)"
   ]
  },
  {
   "cell_type": "markdown",
   "metadata": {},
   "source": [
    "Ao aumentar o intervalo de confiança para 95% continuamos observando o mesmo comportamento, os limites superior de 2011 e o inferior de 2019 se sobrepõe. Porém ambos IC não contém a média do outro, dessa forma o teste-t precisa ser realizado para afirmar a hipótese."
   ]
  },
  {
   "cell_type": "markdown",
   "metadata": {},
   "source": [
    "#### 2.6.3 Calculo de limite inferior e superior de ambas amostras com nível de confiança em 99%"
   ]
  },
  {
   "cell_type": "code",
   "execution_count": 51,
   "metadata": {},
   "outputs": [
    {
     "name": "stdout",
     "output_type": "stream",
     "text": [
      "20.365879111047498\n",
      "27.634120888952502\n",
      "24.396069095386846\n",
      "32.943930904613154\n"
     ]
    }
   ],
   "source": [
    "intervalo = 0.99\n",
    "t = stats.t.ppf((intervalo+1)/2,29)\n",
    "limiteInferior2011 = mu2011 - t * sigma2011 / math.sqrt(n)\n",
    "limiteSuperior2011 = mu2011 + t * sigma2011 / math.sqrt(n)\n",
    "limiteInferior2019 = mu2019 - t * sigma2019 / math.sqrt(n)\n",
    "limiteSuperior2019 = mu2019 + t * sigma2019 / math.sqrt(n)\n",
    "print(limiteInferior2011)\n",
    "print(limiteSuperior2011)\n",
    "print(limiteInferior2019)\n",
    "print(limiteSuperior2019)"
   ]
  },
  {
   "cell_type": "markdown",
   "metadata": {},
   "source": [
    "Quando colocamos um intervalo de confiança em 99%, tem-se a mesma conclusão de que com 95%, ou seja, o teste T deve ser feito para melhores conclusões, pois mais uma vez a média de um não está contida no intervalo de outro."
   ]
  },
  {
   "cell_type": "markdown",
   "metadata": {},
   "source": [
    "#### 2.6.4 Calculo de limite inferior e superior de ambas amostras com nível de confiança em 99.9% (curiosidade)"
   ]
  },
  {
   "cell_type": "code",
   "execution_count": 52,
   "metadata": {},
   "outputs": [
    {
     "name": "stdout",
     "output_type": "stream",
     "text": [
      "19.17530538650356\n",
      "28.82469461349644\n",
      "22.995887320747144\n",
      "34.34411267925286\n"
     ]
    }
   ],
   "source": [
    "intervalo = 0.999\n",
    "t = stats.t.ppf((intervalo+1)/2,29)\n",
    "limiteInferior2011 = mu2011 - t * sigma2011 / math.sqrt(n)\n",
    "limiteSuperior2011 = mu2011 + t * sigma2011 / math.sqrt(n)\n",
    "limiteInferior2019 = mu2019 - t * sigma2019 / math.sqrt(n)\n",
    "limiteSuperior2019 = mu2019 + t * sigma2019 / math.sqrt(n)\n",
    "print(limiteInferior2011)\n",
    "print(limiteSuperior2011)\n",
    "print(limiteInferior2019)\n",
    "print(limiteSuperior2019)"
   ]
  },
  {
   "cell_type": "markdown",
   "metadata": {},
   "source": [
    "A título de curiosidade, consegui mostrar por intervalo de confiança que as amostras não são diferentes nesse nível apenas com um intervalo de confiança de 99.9%"
   ]
  },
  {
   "cell_type": "markdown",
   "metadata": {},
   "source": [
    "## $\\textbf{3. Conclusão}$\n",
    "<p>Primeiramente foi possível criar duas amostras normais (com p-value acima de 0.8 no teste de Kolmogorov), uma utilizando os dados do POSCOMP 2011 e outra para os dados do POSCOMP 2019.\n",
    "<p>Com as amostras geradas foi possível realizar diversos testes, quando verificamos o intervalo de confiança, podemos perceber que apenas com um nível alto (99.9%) foi possível afimar que as amostras não são diferentes.\n",
    "<p>Para os demais intervalos testados, foi necessário realizar o teste t.\n",
    "<p>Utilizando o teste t podemos verificar que há apenas 6% de chance da diferença das amostras ser ao acaso.\n",
    "<p>Diante do trabalho realizado, pode-se perceber primeiramente que as amostras são relativamente pequenas, o que dificulta um pouco a comparação. Diante da sequencia de testes podemos confiar no teste t que mostra a baixa probabilidade de a diferença das amostras ser ao acaso."
   ]
  }
 ],
 "metadata": {
  "kernelspec": {
   "display_name": "Python 3",
   "language": "python",
   "name": "python3"
  },
  "language_info": {
   "codemirror_mode": {
    "name": "ipython",
    "version": 3
   },
   "file_extension": ".py",
   "mimetype": "text/x-python",
   "name": "python",
   "nbconvert_exporter": "python",
   "pygments_lexer": "ipython3",
   "version": "3.7.6"
  }
 },
 "nbformat": 4,
 "nbformat_minor": 4
}
