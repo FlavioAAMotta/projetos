{
 "cells": [
  {
   "cell_type": "markdown",
   "metadata": {},
   "source": [
    "# <center> $\\underline{\\textbf{AAG05 - Regressão e Predição}}$ <p><center> Flávio Motta"
   ]
  },
  {
   "cell_type": "markdown",
   "metadata": {},
   "source": [
    "## $\\textbf{1. Contexto}$"
   ]
  },
  {
   "cell_type": "markdown",
   "metadata": {},
   "source": [
    "Em um período foi observado tanto a frequência em aula quanto a nota final de 17 alunos. Com os dados, podemos analisar a distribuição correspondente."
   ]
  },
  {
   "cell_type": "code",
   "execution_count": 1,
   "metadata": {},
   "outputs": [],
   "source": [
    "import matplotlib.pyplot as plt\n",
    "import numpy as np\n",
    "import scipy.stats as stats\n",
    "import math\n",
    "import statsmodels.api as sm\n",
    "import pylab"
   ]
  },
  {
   "cell_type": "code",
   "execution_count": 3,
   "metadata": {},
   "outputs": [
    {
     "data": {
      "image/png": "[encoded data removed]",
      "text/plain": [
       "<Figure size 432x288 with 1 Axes>"
      ]
     },
     "metadata": {
      "needs_background": "light"
     },
     "output_type": "display_data"
    }
   ],
   "source": [
    "plt.boxplot(eixoY)\n",
    "plt.show()\n",
    "#eixoY =[0,12,30,54,59,72,63,71,79,82,80,85,82,88,92,95,98]"
   ]
  },
  {
   "cell_type": "code",
   "execution_count": 2,
   "metadata": {},
   "outputs": [
    {
     "data": {
      "text/plain": [
       "[<matplotlib.lines.Line2D at 0x184e14eb308>]"
      ]
     },
     "execution_count": 2,
     "metadata": {},
     "output_type": "execute_result"
    },
    {
     "data": {
      "image/png": "[encoded data removed]",
      "text/plain": [
       "<Figure size 432x288 with 1 Axes>"
      ]
     },
     "metadata": {
      "needs_background": "light"
     },
     "output_type": "display_data"
    }
   ],
   "source": [
    "eixoX = [0,30,50,75,75,75,80,80,85,90,90,95,100,100,100,100,100] #Os dados nesse vetor representam a frequencia em aula\n",
    "eixoY =[0,12,30,54,59,72,63,71,79,82,80,85,82,88,92,95,98] #Os dados nesse vetor representam as notas dos alunos\n",
    "#eixoX = [1,2,3,2,1,3]\n",
    "#eixoY = [3,5,8,9,4,7]\n",
    "n = len(eixoX)\n",
    "plt.title('Diagrama de Dispersão')\n",
    "plt.xlabel('Frequência em aula')\n",
    "plt.ylabel('Nota final')\n",
    "plt.plot(eixoX, eixoY,'ro')"
   ]
  },
  {
   "cell_type": "markdown",
   "metadata": {},
   "source": [
    "Podemos então calcular o coeficiente de correlação para a amostra bivariada."
   ]
  },
  {
   "cell_type": "code",
   "execution_count": 4,
   "metadata": {},
   "outputs": [
    {
     "name": "stdout",
     "output_type": "stream",
     "text": [
      "[[1.         0.97321796]\n",
      " [0.97321796 1.        ]]\n",
      "17\n"
     ]
    }
   ],
   "source": [
    "xy = [eixoX,eixoY]\n",
    "print(np.corrcoef(xy))\n",
    "print(n)"
   ]
  },
  {
   "cell_type": "markdown",
   "metadata": {},
   "source": [
    "O coeficiente de correlação dos dados coletados é consideravelmente forte (acima de 0,8), dessa forma seguimos com os a amostra escolhida."
   ]
  },
  {
   "cell_type": "markdown",
   "metadata": {},
   "source": [
    "## $\\textbf{2. Calculando alguns parâmetros utilizados}$"
   ]
  },
  {
   "cell_type": "code",
   "execution_count": 5,
   "metadata": {},
   "outputs": [
    {
     "name": "stdout",
     "output_type": "stream",
     "text": [
      "Média de x: 77.94117647058823 \n",
      "Média de y: 67.17647058823529\n",
      "Somatorio dos produtos: 101325\n",
      "Somatorio dos quadrados de x: 115525\n",
      "b1:  1.0051608257321174\n",
      "b0:  -11.166946711473855\n"
     ]
    }
   ],
   "source": [
    "mediaX = sum(eixoX)/n\n",
    "mediaY = sum(eixoY)/n\n",
    "print('Média de x:',mediaX,'\\nMédia de y:',mediaY)\n",
    "\n",
    "somatorioProduto = 0\n",
    "somatorioQuadradoX = 0\n",
    "for indice in range(n):\n",
    "    somatorioProduto += eixoX[indice] * eixoY[indice]\n",
    "    somatorioQuadradoX += pow(eixoX[indice],2)\n",
    "print('Somatorio dos produtos:', somatorioProduto)\n",
    "print('Somatorio dos quadrados de x:', somatorioQuadradoX)\n",
    "\n",
    "b1 = (somatorioProduto-(n*mediaX*mediaY)) / (somatorioQuadradoX-(n*pow(mediaX,2)))\n",
    "b0 = (mediaY - (b1*mediaX))\n",
    "print('b1: ',b1)\n",
    "print('b0: ',b0)"
   ]
  },
  {
   "cell_type": "markdown",
   "metadata": {},
   "source": [
    "Com os parâmetros b0 e b1 estimados, podemos plotar a reta que representa a equação \n",
    "$\\begin{equation}\n",
    "y_i = B_0 + B_1 X_i\n",
    "\\end{equation}$"
   ]
  },
  {
   "cell_type": "code",
   "execution_count": 6,
   "metadata": {},
   "outputs": [
    {
     "data": {
      "image/png": "[encoded data removed]",
      "text/plain": [
       "<Figure size 432x288 with 1 Axes>"
      ]
     },
     "metadata": {
      "needs_background": "light"
     },
     "output_type": "display_data"
    }
   ],
   "source": [
    "x = np.linspace(0, 105) \n",
    "y = b0 + b1 * x  \n",
    "\n",
    "plt.title('Diagrama de Dispersão')\n",
    "plt.xlabel('Frequência em aula')\n",
    "plt.ylabel('Nota final')\n",
    "plt.plot(eixoX, eixoY,'ro',x, y) \n",
    "plt.show() "
   ]
  },
  {
   "cell_type": "markdown",
   "metadata": {},
   "source": [
    "#### Comentário\n",
    "Visualmente considero que a reta determinada pelos parâmetros divide bem os valores plotados. Pode-se perceber que os alunos com menor frequencia em aula diferem um pouco mais da reta proposta pela regressão. Por ter maior número de alunos com frequencia maior, a reta acaba representando melhor os dados na região que eles se encontram."
   ]
  },
  {
   "cell_type": "code",
   "execution_count": 7,
   "metadata": {},
   "outputs": [
    {
     "name": "stdout",
     "output_type": "stream",
     "text": [
      "Coeficiente de determinação: 0.9471532051938456\n"
     ]
    }
   ],
   "source": [
    "somatorioQuadradoY, somatorioY = 0 , 0\n",
    "nyQuadrado = n*pow(mediaY,2)\n",
    "nxQuadrado = n*pow(mediaX,2)\n",
    "for indice in range(n):\n",
    "    somatorioY += eixoY[indice]\n",
    "    somatorioQuadradoY += pow(eixoY[indice],2)\n",
    "SSE = somatorioQuadradoY-(b0*somatorioY)- (b1*somatorioProduto)\n",
    "SST = somatorioQuadradoY - nyQuadrado\n",
    "SSR = SST - SSE\n",
    "print('Coeficiente de determinação:',SSR/SST)"
   ]
  },
  {
   "cell_type": "markdown",
   "metadata": {},
   "source": [
    "#### Comentário\n",
    "Considerando que o coeficiente de determinação é um valor que varia de 0 a 1, o calculado na amostra utilizada é relativamente alto (Quanto maior melhor a regressão), dessa forma podemos afirmar que o modelo explica quase 95% da variação (muito bom)."
   ]
  },
  {
   "cell_type": "markdown",
   "metadata": {},
   "source": [
    "### $\\textbf{Desvio padrão dos erros e dos parâmetros}$"
   ]
  },
  {
   "cell_type": "code",
   "execution_count": 8,
   "metadata": {},
   "outputs": [
    {
     "name": "stdout",
     "output_type": "stream",
     "text": [
      "Desvio padrão dos erros: 6.785928957268104\n"
     ]
    }
   ],
   "source": [
    "QME = SSE/(n-2)\n",
    "Se = math.sqrt(QME)\n",
    "print('Desvio padrão dos erros:',Se)"
   ]
  },
  {
   "cell_type": "markdown",
   "metadata": {},
   "source": [
    "#### Comentário\n",
    "O desvio padrão dos erros não foi o mais baixo, isso se deve ao fato de os alunos com menor frequência se distanciarem mais da reta calculada. A reta dada pela regressão distancia-se mais devido ao maior número de alunos com frequencia pouco abaixo de 100% obterem notas finais parecidas."
   ]
  },
  {
   "cell_type": "code",
   "execution_count": 9,
   "metadata": {},
   "outputs": [
    {
     "name": "stdout",
     "output_type": "stream",
     "text": [
      "Desvio padrão de b0: 5.053620926673252\n",
      "Desvio padrão de b1: 0.000553820414179346\n"
     ]
    }
   ],
   "source": [
    "Sb0 = Se * math.sqrt(1/n+(pow(mediaX,2)/(somatorioQuadradoX - nxQuadrado)))\n",
    "Sb1 = Se / (somatorioQuadradoX-nxQuadrado)\n",
    "print('Desvio padrão de b0:', Sb0)\n",
    "print('Desvio padrão de b1:', Sb1)"
   ]
  },
  {
   "cell_type": "markdown",
   "metadata": {},
   "source": [
    "#### Comentário\n",
    "O desvio padrão dos parâmetros mostra a diferença que cada um compôs na reta escolhida. b0 tem um desvio padrão relativamente mais alto que b1, o que mostra seu peso maior."
   ]
  },
  {
   "cell_type": "markdown",
   "metadata": {},
   "source": [
    "### $\\textbf{Intervalo de confiança dos parâmetros}$"
   ]
  },
  {
   "cell_type": "markdown",
   "metadata": {},
   "source": [
    "Nível de confiança de 90%"
   ]
  },
  {
   "cell_type": "code",
   "execution_count": 10,
   "metadata": {},
   "outputs": [
    {
     "name": "stdout",
     "output_type": "stream",
     "text": [
      "-2.307443864922975 \n",
      " -20.026449558024737\n",
      "1.0061317283002151 \n",
      " 1.0041899231640197\n"
     ]
    }
   ],
   "source": [
    "valorTabelaT = 1.7531 #Valor recuperado na tabela para nivel de confianca de 90% em amostra de 17-2\n",
    "IntervaloPb0 = b0 +  valorTabelaT* Sb0\n",
    "IntervaloNb0 = b0 -  valorTabelaT* Sb0\n",
    "print(IntervaloPb0, '\\n', IntervaloNb0)\n",
    "IntervaloPb1 = b1 +  valorTabelaT * Sb1\n",
    "IntervaloNb1 = b1 -  valorTabelaT * Sb1\n",
    "print(IntervaloPb1, '\\n', IntervaloNb1)"
   ]
  },
  {
   "cell_type": "markdown",
   "metadata": {},
   "source": [
    "<p>Em ambas variáveis o intervalo não inclui o 0, no caso de b1 o desvio padrão do mesmo é muito baixo, o que dificulta bem que isso aconteça. Já b0 tem um desvio padrão alto, no caso do nível em 90% ainda não foi possível concluir que não são diferentes.\n",
    "<p>95%"
   ]
  },
  {
   "cell_type": "code",
   "execution_count": 11,
   "metadata": {},
   "outputs": [
    {
     "name": "stdout",
     "output_type": "stream",
     "text": [
      "-0.3956590683624839 \n",
      " -21.938234354585227\n",
      "1.0063412385628994 \n",
      " 1.0039804129013354\n"
     ]
    }
   ],
   "source": [
    "valorTabelaT = 2.1314\n",
    "IntervaloPb0 = b0 +  valorTabelaT* Sb0\n",
    "IntervaloNb0 = b0 -  valorTabelaT* Sb0\n",
    "print(IntervaloPb0, '\\n', IntervaloNb0)\n",
    "IntervaloPb1 = b1 +  valorTabelaT * Sb1\n",
    "IntervaloNb1 = b1 -  valorTabelaT * Sb1\n",
    "print(IntervaloPb1, '\\n', IntervaloNb1)"
   ]
  },
  {
   "cell_type": "markdown",
   "metadata": {},
   "source": [
    "<p>A conclusão de 90% se repete: em ambas variáveis o intervalo não inclui o 0, no caso de b1 o desvio padrão do mesmo é muito baixo, o que dificulta bem que isso aconteça. Já b0 tem um desvio padrão alto, no caso do nível em 95% ainda não foi possível concluir que não são diferentes.\n",
    "<p>99%"
   ]
  },
  {
   "cell_type": "code",
   "execution_count": 12,
   "metadata": {},
   "outputs": [
    {
     "name": "stdout",
     "output_type": "stream",
     "text": [
      "3.724558073154217 \n",
      " -26.058451496101927\n",
      "1.0067927683465796 \n",
      " 1.0035288831176552\n"
     ]
    }
   ],
   "source": [
    "valorTabelaT = 2.9467\n",
    "IntervaloPb0 = b0 +  valorTabelaT* Sb0\n",
    "IntervaloNb0 = b0 -  valorTabelaT* Sb0\n",
    "print(IntervaloPb0, '\\n', IntervaloNb0)\n",
    "IntervaloPb1 = b1 +  valorTabelaT * Sb1\n",
    "IntervaloNb1 = b1 -  valorTabelaT * Sb1\n",
    "print(IntervaloPb1, '\\n', IntervaloNb1)"
   ]
  },
  {
   "cell_type": "markdown",
   "metadata": {},
   "source": [
    "<p>Como o intervalo de confiancia inclui o 0, a hipótese de que o parametro é zero não pode ser rejeitada com uma significância de 99%.\n",
    "<p>Como o intervalo não inclui o zero, b1 é significativamente diferente de 0 nesse nível de confiança"
   ]
  },
  {
   "cell_type": "code",
   "execution_count": 13,
   "metadata": {},
   "outputs": [
    {
     "name": "stdout",
     "output_type": "stream",
     "text": [
      "[ 0 12 30 54 59 72 63 71 79 82 80 85 82 88 92 95 98]\n"
     ]
    },
    {
     "data": {
      "image/png": "[encoded data removed]",
      "text/plain": [
       "<Figure size 432x288 with 1 Axes>"
      ]
     },
     "metadata": {
      "needs_background": "light"
     },
     "output_type": "display_data"
    }
   ],
   "source": [
    "arr = np.array(eixoY)\n",
    "print(arr)\n",
    "sm.qqplot(arr ,line='45',fit=True)\n",
    "pylab.show()"
   ]
  },
  {
   "cell_type": "markdown",
   "metadata": {},
   "source": [
    "<p>Podemos ver o gráfico q-q para as notas finais dos alunos na disciplina.\n",
    "<p>Como a amostra é pequena e poucos alunos tem nota relativamente baixa, poucos iniciais ficaram distribuidos abaixo da linha, a maior parte dos alunos seguiram acima e perto da linha.\n",
    "<p> Pelos primeiros alunos apresentarem uma frequencia relativamente baixa esses pontos ficam bem abaixo da reta, apresentando pouco peso para a regressão e um erro maior. Boa parte dos alunos apresentam pouco menos que 100% de presença, esses alunos tem um erro menor e determinam mais a reta traçada."
   ]
  },
  {
   "cell_type": "markdown",
   "metadata": {},
   "source": [
    "### Calculando desvio padrão dos erros individualmente"
   ]
  },
  {
   "cell_type": "code",
   "execution_count": 14,
   "metadata": {},
   "outputs": [
    {
     "name": "stdout",
     "output_type": "stream",
     "text": [
      "Valor estimado pela regressão: [-11.166946711473855, 18.987878060489667, 39.09109457513202, 64.22011521843496, 64.22011521843496, 64.22011521843496, 69.24591934709554, 69.24591934709554, 74.27172347575612, 79.29752760441671, 79.29752760441671, 84.3233317330773, 89.34913586173789, 89.34913586173789, 89.34913586173789, 89.34913586173789, 89.34913586173789]\n",
      "Erro da regressão: [11.166946711473855, -6.987878060489667, -9.091094575132018, -10.220115218434955, -5.220115218434955, 7.779884781565045, -6.245919347095537, 1.754080652904463, 4.728276524243881, 2.7024723955832854, 0.7024723955832854, 0.6766682669227038, -7.349135861737892, -1.3491358617378921, 2.650864138262108, 5.650864138262108, 8.650864138262108]\n"
     ]
    }
   ],
   "source": [
    "erro = []\n",
    "estimado =[]\n",
    "for indice in range(len(eixoX)):\n",
    "    valorDeXNaRegressao = b0 + b1 * xy[0][indice] #Valor da minha regressão no ponto x\n",
    "    estimado.append(valorDeXNaRegressao)\n",
    "    erro.append(xy[1][indice] - valorDeXNaRegressao)\n",
    "print('Valor estimado pela regressão:',estimado)\n",
    "print('Erro da regressão:',erro)"
   ]
  },
  {
   "cell_type": "code",
   "execution_count": 18,
   "metadata": {},
   "outputs": [
    {
     "data": {
      "text/plain": [
       "[<matplotlib.lines.Line2D at 0x1a411f1bac8>]"
      ]
     },
     "execution_count": 18,
     "metadata": {},
     "output_type": "execute_result"
    },
    {
     "data": {
      "image/png": "[encoded data removed]",
      "text/plain": [
       "<Figure size 432x288 with 1 Axes>"
      ]
     },
     "metadata": {
      "needs_background": "light"
     },
     "output_type": "display_data"
    }
   ],
   "source": [
    "plt.title('Independencia')\n",
    "plt.xlabel('Estimado')\n",
    "plt.ylabel('Erro')\n",
    "plt.plot(estimado, erro,'ro')"
   ]
  },
  {
   "cell_type": "markdown",
   "metadata": {},
   "source": [
    "Apesar de um erro bem alto inicial (acima de 11), acredito que os demais erros são bem distribuidos e não apresentam tendência de espalhamento posteriormente."
   ]
  },
  {
   "cell_type": "code",
   "execution_count": 46,
   "metadata": {},
   "outputs": [
    {
     "data": {
      "text/plain": [
       "[<matplotlib.lines.Line2D at 0x1a4137a92c8>,\n",
       " <matplotlib.lines.Line2D at 0x1a4137a9448>,\n",
       " <matplotlib.lines.Line2D at 0x1a4137a9588>]"
      ]
     },
     "execution_count": 46,
     "metadata": {},
     "output_type": "execute_result"
    },
    {
     "data": {
      "image/png": "[encoded data removed]",
      "text/plain": [
       "<Figure size 432x288 with 1 Axes>"
      ]
     },
     "metadata": {
      "needs_background": "light"
     },
     "output_type": "display_data"
    }
   ],
   "source": [
    "plt.xlim(-15,100)\n",
    "plt.ylim(-30,30)\n",
    "#x = np.linspace(11, 11,num=100) \n",
    "x = [-11.2,100]\n",
    "y = [11.166946711473855,8.66]\n",
    "x1 = [-11.2,100]\n",
    "y1 = [-10.8,-10.8]\n",
    "plt.plot(estimado, erro,'ro',x,y,x1,y1)"
   ]
  },
  {
   "cell_type": "markdown",
   "metadata": {},
   "source": [
    "Alterando a escala da para ver melhor que o gráfico não apresenta tendência de espalhamento. Tracei duas retas para ficar mais facil de enxergar a homocedasticidade, no caso determinei a reta superior como o primeiro ponto em x e o ponto mais alto do fim de x.\n",
    "Na reta inferior determinei como sendo apenas uma reta sem variação, delimitada pouco abaixo do ponto mais baixo em y"
   ]
  },
  {
   "cell_type": "code",
   "execution_count": null,
   "metadata": {},
   "outputs": [],
   "source": []
  }
 ],
 "metadata": {
  "kernelspec": {
   "display_name": "Python 3",
   "language": "python",
   "name": "python3"
  },
  "language_info": {
   "codemirror_mode": {
    "name": "ipython",
    "version": 3
   },
   "file_extension": ".py",
   "mimetype": "text/x-python",
   "name": "python",
   "nbconvert_exporter": "python",
   "pygments_lexer": "ipython3",
   "version": "3.7.6"
  }
 },
 "nbformat": 4,
 "nbformat_minor": 4
}
