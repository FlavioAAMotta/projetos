{
 "cells": [
  {
   "cell_type": "markdown",
   "metadata": {},
   "source": [
    "# <center> $\\underline{\\textbf{Relatório Ciência de Redes - LNCC}}$ <p><center> Aluno : Flávio Motta <p><center> Professor: Artur Ziviani <p><center> Semestre 02-2020"
   ]
  },
  {
   "cell_type": "markdown",
   "metadata": {},
   "source": [
    "# 1 - Introdução\n",
    "Dota 2 é um jogo multijogador no qual dois times (iluminados e temidos) batalham em partidas cinco contra cinco, o objetivo dos dois times é destruir o trono do adversário.\n",
    "Ao iniciar o jogo, cada jogador deve escolher um herói dentre 113 disponíveis, dessa forma, ao começar a batalha, tem-se dois times com cinco heróis escolhidos arbitrariamente por cada lado, não é possível repetir heróis.\n",
    "Sempre existe um time vencedor e um perdedor, não há possibilidade de empate no jogo. <p>\n",
    "No site do Kaggle é possível encontrar databases de partidas desse jogo.\n",
    "Com base nesssas premissas, é possível construir um grafo onde os nós são os heróis do jogo e a ligação entre eles é feita quando houver derrota pelo mesmo time.\n",
    "A base de dados utilizada é relativamente grande, são 100 mil partidas, por esse motivo, é provável que ao montar o grafo ele seja bem denso, uma possibilidade é de colocar peso nas arestas e analisar o grafo a partir de um certo peso.\n",
    "Com base nessa análise, é possível classificar ao se escolher um herói, quais são seus parceiros de time com pior desempenho no geral."
   ]
  },
  {
   "cell_type": "markdown",
   "metadata": {},
   "source": [
    "# 2 - Importando biblioteca"
   ]
  },
  {
   "cell_type": "markdown",
   "metadata": {},
   "source": [
    "A biblioteca pandas do python é utilizada para manipulação de dados em formatos de ${dataframes}$"
   ]
  },
  {
   "cell_type": "code",
   "execution_count": 60,
   "metadata": {},
   "outputs": [],
   "source": [
    "import pandas as pd"
   ]
  },
  {
   "cell_type": "markdown",
   "metadata": {},
   "source": [
    "# 3 - Leitura de arquivos\n",
    "Logo após podemos fazer a leitura de duas bases de dados, o objetivo desse pré processamento de dados é de conseguir unir as duas bases para que tenha-se uma lista de quais heróis compunham um time quando derrotados. <p>\n",
    "O arquivo 'vitoria.csv' contém um identificador de partida e qual time venceu a partida <p>\n",
    "O arquivo 'jogadores.csv' contém o mesmo identificador do outro arquivo, um identificador de qual herói foi utilizado por determinado jogador e qual a posição ele ocupou na partida (com essa coluna conseguimos recuperar em qual time ele jogou)"
   ]
  },
  {
   "cell_type": "code",
   "execution_count": 61,
   "metadata": {},
   "outputs": [],
   "source": [
    "df = pd.read_csv('vitoria.csv')\n",
    "df2 = pd.read_csv('jogadores.csv')"
   ]
  },
  {
   "cell_type": "markdown",
   "metadata": {},
   "source": [
    "Faço dois \"head\" apenas para verificar como o database se apresenta"
   ]
  },
  {
   "cell_type": "code",
   "execution_count": 62,
   "metadata": {},
   "outputs": [
    {
     "data": {
      "text/html": [
       "<div>\n",
       "<style scoped>\n",
       "    .dataframe tbody tr th:only-of-type {\n",
       "        vertical-align: middle;\n",
       "    }\n",
       "\n",
       "    .dataframe tbody tr th {\n",
       "        vertical-align: top;\n",
       "    }\n",
       "\n",
       "    .dataframe thead th {\n",
       "        text-align: right;\n",
       "    }\n",
       "</style>\n",
       "<table border=\"1\" class=\"dataframe\">\n",
       "  <thead>\n",
       "    <tr style=\"text-align: right;\">\n",
       "      <th></th>\n",
       "      <th>match_id</th>\n",
       "      <th>radiant_win</th>\n",
       "    </tr>\n",
       "  </thead>\n",
       "  <tbody>\n",
       "    <tr>\n",
       "      <th>0</th>\n",
       "      <td>50000</td>\n",
       "      <td>0</td>\n",
       "    </tr>\n",
       "    <tr>\n",
       "      <th>1</th>\n",
       "      <td>50001</td>\n",
       "      <td>1</td>\n",
       "    </tr>\n",
       "    <tr>\n",
       "      <th>2</th>\n",
       "      <td>50002</td>\n",
       "      <td>0</td>\n",
       "    </tr>\n",
       "    <tr>\n",
       "      <th>3</th>\n",
       "      <td>50003</td>\n",
       "      <td>1</td>\n",
       "    </tr>\n",
       "    <tr>\n",
       "      <th>4</th>\n",
       "      <td>50004</td>\n",
       "      <td>0</td>\n",
       "    </tr>\n",
       "  </tbody>\n",
       "</table>\n",
       "</div>"
      ],
      "text/plain": [
       "   match_id  radiant_win\n",
       "0     50000            0\n",
       "1     50001            1\n",
       "2     50002            0\n",
       "3     50003            1\n",
       "4     50004            0"
      ]
     },
     "execution_count": 62,
     "metadata": {},
     "output_type": "execute_result"
    }
   ],
   "source": [
    "df.head()"
   ]
  },
  {
   "cell_type": "code",
   "execution_count": 63,
   "metadata": {},
   "outputs": [
    {
     "data": {
      "text/html": [
       "<div>\n",
       "<style scoped>\n",
       "    .dataframe tbody tr th:only-of-type {\n",
       "        vertical-align: middle;\n",
       "    }\n",
       "\n",
       "    .dataframe tbody tr th {\n",
       "        vertical-align: top;\n",
       "    }\n",
       "\n",
       "    .dataframe thead th {\n",
       "        text-align: right;\n",
       "    }\n",
       "</style>\n",
       "<table border=\"1\" class=\"dataframe\">\n",
       "  <thead>\n",
       "    <tr style=\"text-align: right;\">\n",
       "      <th></th>\n",
       "      <th>match_id</th>\n",
       "      <th>account_id</th>\n",
       "      <th>hero_id</th>\n",
       "      <th>player_slot</th>\n",
       "    </tr>\n",
       "  </thead>\n",
       "  <tbody>\n",
       "    <tr>\n",
       "      <th>0</th>\n",
       "      <td>50000</td>\n",
       "      <td>117784</td>\n",
       "      <td>96</td>\n",
       "      <td>0</td>\n",
       "    </tr>\n",
       "    <tr>\n",
       "      <th>1</th>\n",
       "      <td>50000</td>\n",
       "      <td>158361</td>\n",
       "      <td>84</td>\n",
       "      <td>1</td>\n",
       "    </tr>\n",
       "    <tr>\n",
       "      <th>2</th>\n",
       "      <td>50000</td>\n",
       "      <td>158362</td>\n",
       "      <td>46</td>\n",
       "      <td>2</td>\n",
       "    </tr>\n",
       "    <tr>\n",
       "      <th>3</th>\n",
       "      <td>50000</td>\n",
       "      <td>137970</td>\n",
       "      <td>85</td>\n",
       "      <td>3</td>\n",
       "    </tr>\n",
       "    <tr>\n",
       "      <th>4</th>\n",
       "      <td>50000</td>\n",
       "      <td>1090</td>\n",
       "      <td>39</td>\n",
       "      <td>4</td>\n",
       "    </tr>\n",
       "  </tbody>\n",
       "</table>\n",
       "</div>"
      ],
      "text/plain": [
       "   match_id  account_id  hero_id  player_slot\n",
       "0     50000      117784       96            0\n",
       "1     50000      158361       84            1\n",
       "2     50000      158362       46            2\n",
       "3     50000      137970       85            3\n",
       "4     50000        1090       39            4"
      ]
     },
     "execution_count": 63,
     "metadata": {},
     "output_type": "execute_result"
    }
   ],
   "source": [
    "df2.head()"
   ]
  },
  {
   "cell_type": "markdown",
   "metadata": {},
   "source": [
    "Além dos \"head\" também faço um \"describe\" para analisar alguns dados do arquivo"
   ]
  },
  {
   "cell_type": "code",
   "execution_count": 64,
   "metadata": {},
   "outputs": [
    {
     "data": {
      "text/html": [
       "<div>\n",
       "<style scoped>\n",
       "    .dataframe tbody tr th:only-of-type {\n",
       "        vertical-align: middle;\n",
       "    }\n",
       "\n",
       "    .dataframe tbody tr th {\n",
       "        vertical-align: top;\n",
       "    }\n",
       "\n",
       "    .dataframe thead th {\n",
       "        text-align: right;\n",
       "    }\n",
       "</style>\n",
       "<table border=\"1\" class=\"dataframe\">\n",
       "  <thead>\n",
       "    <tr style=\"text-align: right;\">\n",
       "      <th></th>\n",
       "      <th>match_id</th>\n",
       "      <th>radiant_win</th>\n",
       "    </tr>\n",
       "  </thead>\n",
       "  <tbody>\n",
       "    <tr>\n",
       "      <th>count</th>\n",
       "      <td>100000.000000</td>\n",
       "      <td>100000.000000</td>\n",
       "    </tr>\n",
       "    <tr>\n",
       "      <th>mean</th>\n",
       "      <td>99999.500000</td>\n",
       "      <td>0.518610</td>\n",
       "    </tr>\n",
       "    <tr>\n",
       "      <th>std</th>\n",
       "      <td>28867.657797</td>\n",
       "      <td>0.499656</td>\n",
       "    </tr>\n",
       "    <tr>\n",
       "      <th>min</th>\n",
       "      <td>50000.000000</td>\n",
       "      <td>0.000000</td>\n",
       "    </tr>\n",
       "    <tr>\n",
       "      <th>25%</th>\n",
       "      <td>74999.750000</td>\n",
       "      <td>0.000000</td>\n",
       "    </tr>\n",
       "    <tr>\n",
       "      <th>50%</th>\n",
       "      <td>99999.500000</td>\n",
       "      <td>1.000000</td>\n",
       "    </tr>\n",
       "    <tr>\n",
       "      <th>75%</th>\n",
       "      <td>124999.250000</td>\n",
       "      <td>1.000000</td>\n",
       "    </tr>\n",
       "    <tr>\n",
       "      <th>max</th>\n",
       "      <td>149999.000000</td>\n",
       "      <td>1.000000</td>\n",
       "    </tr>\n",
       "  </tbody>\n",
       "</table>\n",
       "</div>"
      ],
      "text/plain": [
       "            match_id    radiant_win\n",
       "count  100000.000000  100000.000000\n",
       "mean    99999.500000       0.518610\n",
       "std     28867.657797       0.499656\n",
       "min     50000.000000       0.000000\n",
       "25%     74999.750000       0.000000\n",
       "50%     99999.500000       1.000000\n",
       "75%    124999.250000       1.000000\n",
       "max    149999.000000       1.000000"
      ]
     },
     "execution_count": 64,
     "metadata": {},
     "output_type": "execute_result"
    }
   ],
   "source": [
    "df.describe()"
   ]
  },
  {
   "cell_type": "markdown",
   "metadata": {},
   "source": [
    "Uma coisa interessante de se notar nessa descrição obtida é que existe uma média de 51,82% de vitória para o time que jogar pelos iluminados"
   ]
  },
  {
   "cell_type": "markdown",
   "metadata": {},
   "source": [
    "# 4 - Fazendo a mescla das bases\n",
    "<p> Nesse momento do código é possível fazer o ${join}$ das bases de dados utilizando a coluna \"match_id\""
   ]
  },
  {
   "cell_type": "code",
   "execution_count": 65,
   "metadata": {},
   "outputs": [],
   "source": [
    "partida = pd.merge(df, df2, how='left', left_on='match_id', right_on='match_id')"
   ]
  },
  {
   "cell_type": "markdown",
   "metadata": {},
   "source": [
    "Novamente utilizo a função \"head\" para verificar como o resultado da operação anterior (muitas vezes uso essa função porque por ela me mostrar apenas as cinco primeiras linhas da base de dados, ela tem uma execução mais leve)"
   ]
  },
  {
   "cell_type": "code",
   "execution_count": 66,
   "metadata": {},
   "outputs": [
    {
     "data": {
      "text/html": [
       "<div>\n",
       "<style scoped>\n",
       "    .dataframe tbody tr th:only-of-type {\n",
       "        vertical-align: middle;\n",
       "    }\n",
       "\n",
       "    .dataframe tbody tr th {\n",
       "        vertical-align: top;\n",
       "    }\n",
       "\n",
       "    .dataframe thead th {\n",
       "        text-align: right;\n",
       "    }\n",
       "</style>\n",
       "<table border=\"1\" class=\"dataframe\">\n",
       "  <thead>\n",
       "    <tr style=\"text-align: right;\">\n",
       "      <th></th>\n",
       "      <th>match_id</th>\n",
       "      <th>radiant_win</th>\n",
       "      <th>account_id</th>\n",
       "      <th>hero_id</th>\n",
       "      <th>player_slot</th>\n",
       "    </tr>\n",
       "  </thead>\n",
       "  <tbody>\n",
       "    <tr>\n",
       "      <th>0</th>\n",
       "      <td>50000</td>\n",
       "      <td>0</td>\n",
       "      <td>117784</td>\n",
       "      <td>96</td>\n",
       "      <td>0</td>\n",
       "    </tr>\n",
       "    <tr>\n",
       "      <th>1</th>\n",
       "      <td>50000</td>\n",
       "      <td>0</td>\n",
       "      <td>158361</td>\n",
       "      <td>84</td>\n",
       "      <td>1</td>\n",
       "    </tr>\n",
       "    <tr>\n",
       "      <th>2</th>\n",
       "      <td>50000</td>\n",
       "      <td>0</td>\n",
       "      <td>158362</td>\n",
       "      <td>46</td>\n",
       "      <td>2</td>\n",
       "    </tr>\n",
       "    <tr>\n",
       "      <th>3</th>\n",
       "      <td>50000</td>\n",
       "      <td>0</td>\n",
       "      <td>137970</td>\n",
       "      <td>85</td>\n",
       "      <td>3</td>\n",
       "    </tr>\n",
       "    <tr>\n",
       "      <th>4</th>\n",
       "      <td>50000</td>\n",
       "      <td>0</td>\n",
       "      <td>1090</td>\n",
       "      <td>39</td>\n",
       "      <td>4</td>\n",
       "    </tr>\n",
       "  </tbody>\n",
       "</table>\n",
       "</div>"
      ],
      "text/plain": [
       "   match_id  radiant_win  account_id  hero_id  player_slot\n",
       "0     50000            0      117784       96            0\n",
       "1     50000            0      158361       84            1\n",
       "2     50000            0      158362       46            2\n",
       "3     50000            0      137970       85            3\n",
       "4     50000            0        1090       39            4"
      ]
     },
     "execution_count": 66,
     "metadata": {},
     "output_type": "execute_result"
    }
   ],
   "source": [
    "partida.head()"
   ]
  },
  {
   "cell_type": "markdown",
   "metadata": {},
   "source": [
    "A coluna 'account_id' armazena qual o identificador do jogador, para essa análise de dados não utilizo essa informação"
   ]
  },
  {
   "cell_type": "code",
   "execution_count": 67,
   "metadata": {},
   "outputs": [],
   "source": [
    "partida = partida.drop(['account_id'],axis=1)"
   ]
  },
  {
   "cell_type": "code",
   "execution_count": 68,
   "metadata": {},
   "outputs": [
    {
     "data": {
      "text/html": [
       "<div>\n",
       "<style scoped>\n",
       "    .dataframe tbody tr th:only-of-type {\n",
       "        vertical-align: middle;\n",
       "    }\n",
       "\n",
       "    .dataframe tbody tr th {\n",
       "        vertical-align: top;\n",
       "    }\n",
       "\n",
       "    .dataframe thead th {\n",
       "        text-align: right;\n",
       "    }\n",
       "</style>\n",
       "<table border=\"1\" class=\"dataframe\">\n",
       "  <thead>\n",
       "    <tr style=\"text-align: right;\">\n",
       "      <th></th>\n",
       "      <th>match_id</th>\n",
       "      <th>radiant_win</th>\n",
       "      <th>hero_id</th>\n",
       "      <th>player_slot</th>\n",
       "    </tr>\n",
       "  </thead>\n",
       "  <tbody>\n",
       "    <tr>\n",
       "      <th>0</th>\n",
       "      <td>50000</td>\n",
       "      <td>0</td>\n",
       "      <td>96</td>\n",
       "      <td>0</td>\n",
       "    </tr>\n",
       "    <tr>\n",
       "      <th>1</th>\n",
       "      <td>50000</td>\n",
       "      <td>0</td>\n",
       "      <td>84</td>\n",
       "      <td>1</td>\n",
       "    </tr>\n",
       "    <tr>\n",
       "      <th>2</th>\n",
       "      <td>50000</td>\n",
       "      <td>0</td>\n",
       "      <td>46</td>\n",
       "      <td>2</td>\n",
       "    </tr>\n",
       "    <tr>\n",
       "      <th>3</th>\n",
       "      <td>50000</td>\n",
       "      <td>0</td>\n",
       "      <td>85</td>\n",
       "      <td>3</td>\n",
       "    </tr>\n",
       "    <tr>\n",
       "      <th>4</th>\n",
       "      <td>50000</td>\n",
       "      <td>0</td>\n",
       "      <td>39</td>\n",
       "      <td>4</td>\n",
       "    </tr>\n",
       "  </tbody>\n",
       "</table>\n",
       "</div>"
      ],
      "text/plain": [
       "   match_id  radiant_win  hero_id  player_slot\n",
       "0     50000            0       96            0\n",
       "1     50000            0       84            1\n",
       "2     50000            0       46            2\n",
       "3     50000            0       85            3\n",
       "4     50000            0       39            4"
      ]
     },
     "execution_count": 68,
     "metadata": {},
     "output_type": "execute_result"
    }
   ],
   "source": [
    "partida.head()"
   ]
  },
  {
   "cell_type": "markdown",
   "metadata": {},
   "source": [
    "# 5 - Limpando o dataframe\n",
    "## 5.1 - Organizando os times\n",
    "No momento meu ${dataframe}$ apresenta a coluna \"radiant_win\" que representa se houve vitória dos iluminados naquela partida. <p>\n",
    "Também existe a coluna \"player_slot\" que mostra qual posição o jogador ocupou na partida. <p>\n",
    "Como eu quero apenas analisar os heróis que foram derrotados, dada a posição do jogador e quem venceu, eu posso selecionar apenas as linhas que representam os perdedores. <p>\n",
    "A coluna \"match_id\" ainda está preservada porque com ela eu consigo unir quais cinco heróis estavam juntos na derrota."
   ]
  },
  {
   "cell_type": "code",
   "execution_count": 69,
   "metadata": {},
   "outputs": [],
   "source": [
    "partida.loc[partida.player_slot == 1, \"player_slot\"] = 0\n",
    "partida.loc[partida.player_slot == 2, \"player_slot\"] = 0\n",
    "partida.loc[partida.player_slot == 3, \"player_slot\"] = 0\n",
    "partida.loc[partida.player_slot == 4, \"player_slot\"] = 0"
   ]
  },
  {
   "cell_type": "code",
   "execution_count": 70,
   "metadata": {},
   "outputs": [],
   "source": [
    "partida.loc[partida.player_slot == 128, \"player_slot\"] = 1\n",
    "partida.loc[partida.player_slot == 129, \"player_slot\"] = 1\n",
    "partida.loc[partida.player_slot == 130, \"player_slot\"] = 1\n",
    "partida.loc[partida.player_slot == 131, \"player_slot\"] = 1\n",
    "partida.loc[partida.player_slot == 132, \"player_slot\"] = 1"
   ]
  },
  {
   "cell_type": "markdown",
   "metadata": {},
   "source": [
    "Os valores possíveis na coluna \"player_slot\" eram distribuidas dessa forma: <p>\n",
    "    [0,1,2,3,4] para os iluminados <p>\n",
    "    [128,129,130,131,132] para os temidos <p>\n",
    "Para facilitar, coloquei todos do time iluminados com valor 0 e todos do temidos com valor 1"
   ]
  },
  {
   "cell_type": "code",
   "execution_count": 71,
   "metadata": {},
   "outputs": [
    {
     "data": {
      "text/html": [
       "<div>\n",
       "<style scoped>\n",
       "    .dataframe tbody tr th:only-of-type {\n",
       "        vertical-align: middle;\n",
       "    }\n",
       "\n",
       "    .dataframe tbody tr th {\n",
       "        vertical-align: top;\n",
       "    }\n",
       "\n",
       "    .dataframe thead th {\n",
       "        text-align: right;\n",
       "    }\n",
       "</style>\n",
       "<table border=\"1\" class=\"dataframe\">\n",
       "  <thead>\n",
       "    <tr style=\"text-align: right;\">\n",
       "      <th></th>\n",
       "      <th>match_id</th>\n",
       "      <th>radiant_win</th>\n",
       "      <th>hero_id</th>\n",
       "      <th>player_slot</th>\n",
       "    </tr>\n",
       "  </thead>\n",
       "  <tbody>\n",
       "    <tr>\n",
       "      <th>count</th>\n",
       "      <td>1000000.000000</td>\n",
       "      <td>1000000.000000</td>\n",
       "      <td>1000000.000000</td>\n",
       "      <td>1000000.0</td>\n",
       "    </tr>\n",
       "    <tr>\n",
       "      <th>mean</th>\n",
       "      <td>99999.500000</td>\n",
       "      <td>0.518610</td>\n",
       "      <td>50.960134</td>\n",
       "      <td>0.5</td>\n",
       "    </tr>\n",
       "    <tr>\n",
       "      <th>std</th>\n",
       "      <td>28867.527892</td>\n",
       "      <td>0.499654</td>\n",
       "      <td>33.229504</td>\n",
       "      <td>0.5</td>\n",
       "    </tr>\n",
       "    <tr>\n",
       "      <th>min</th>\n",
       "      <td>50000.000000</td>\n",
       "      <td>0.000000</td>\n",
       "      <td>0.000000</td>\n",
       "      <td>0.0</td>\n",
       "    </tr>\n",
       "    <tr>\n",
       "      <th>25%</th>\n",
       "      <td>74999.750000</td>\n",
       "      <td>0.000000</td>\n",
       "      <td>21.000000</td>\n",
       "      <td>0.0</td>\n",
       "    </tr>\n",
       "    <tr>\n",
       "      <th>50%</th>\n",
       "      <td>99999.500000</td>\n",
       "      <td>1.000000</td>\n",
       "      <td>48.000000</td>\n",
       "      <td>0.5</td>\n",
       "    </tr>\n",
       "    <tr>\n",
       "      <th>75%</th>\n",
       "      <td>124999.250000</td>\n",
       "      <td>1.000000</td>\n",
       "      <td>75.000000</td>\n",
       "      <td>1.0</td>\n",
       "    </tr>\n",
       "    <tr>\n",
       "      <th>max</th>\n",
       "      <td>149999.000000</td>\n",
       "      <td>1.000000</td>\n",
       "      <td>112.000000</td>\n",
       "      <td>1.0</td>\n",
       "    </tr>\n",
       "  </tbody>\n",
       "</table>\n",
       "</div>"
      ],
      "text/plain": [
       "             match_id     radiant_win         hero_id  player_slot\n",
       "count  1000000.000000  1000000.000000  1000000.000000    1000000.0\n",
       "mean     99999.500000        0.518610       50.960134          0.5\n",
       "std      28867.527892        0.499654       33.229504          0.5\n",
       "min      50000.000000        0.000000        0.000000          0.0\n",
       "25%      74999.750000        0.000000       21.000000          0.0\n",
       "50%      99999.500000        1.000000       48.000000          0.5\n",
       "75%     124999.250000        1.000000       75.000000          1.0\n",
       "max     149999.000000        1.000000      112.000000          1.0"
      ]
     },
     "execution_count": 71,
     "metadata": {},
     "output_type": "execute_result"
    }
   ],
   "source": [
    "partida.describe()"
   ]
  },
  {
   "cell_type": "markdown",
   "metadata": {},
   "source": [
    "Describe para ter certeza que os unicos valores na coluna \"player_slot\" são 0 e 1"
   ]
  },
  {
   "cell_type": "code",
   "execution_count": 72,
   "metadata": {},
   "outputs": [
    {
     "name": "stdout",
     "output_type": "stream",
     "text": [
      "        match_id  radiant_win  hero_id  player_slot\n",
      "0          50000            0       96            0\n",
      "1          50000            0       84            0\n",
      "2          50000            0       46            0\n",
      "3          50000            0       85            0\n",
      "4          50000            0       39            0\n",
      "...          ...          ...      ...          ...\n",
      "999995    149999            0       74            1\n",
      "999996    149999            0        8            1\n",
      "999997    149999            0       50            1\n",
      "999998    149999            0       55            1\n",
      "999999    149999            0       62            1\n",
      "\n",
      "[1000000 rows x 4 columns]\n"
     ]
    }
   ],
   "source": [
    "print(partida)"
   ]
  },
  {
   "cell_type": "code",
   "execution_count": 73,
   "metadata": {},
   "outputs": [],
   "source": [
    "vencedores = partida"
   ]
  },
  {
   "cell_type": "markdown",
   "metadata": {},
   "source": [
    "No print realizado, pode-se perceber que existem 1 milhão de registros. Como o jogo é dividido em 5 jogadores contra 5 jogadores e sempre um time perde, ao excluir as linhas vencedoras, teremos 500 mil registros."
   ]
  },
  {
   "cell_type": "markdown",
   "metadata": {},
   "source": [
    "## 5.2 - Removendo os registros vitoriosos\n",
    "Para eu ficar apenas com os jogadores derrotados, basta remover os vitoriosos, que são: \n",
    "<p> Colunas com derrota dos iluminados (\"radiant_win\" = 0) e jogador do time dos temidos (\"player_slot\" = 1), ou\n",
    "<p> Vitória dos iluminados (\"radiant_win\" = 1) e jogador do time dos iluminados (\"player_slot\" = 0)"
   ]
  },
  {
   "cell_type": "code",
   "execution_count": 74,
   "metadata": {},
   "outputs": [],
   "source": [
    "partida = partida.drop(partida[(partida.radiant_win == 0) & (partida.player_slot == 1)].index)\n",
    "partida = partida.drop(partida[(partida.radiant_win == 1) & (partida.player_slot == 0)].index)"
   ]
  },
  {
   "cell_type": "code",
   "execution_count": 75,
   "metadata": {},
   "outputs": [
    {
     "name": "stdout",
     "output_type": "stream",
     "text": [
      "        match_id  radiant_win  hero_id  player_slot\n",
      "0          50000            0       96            0\n",
      "1          50000            0       84            0\n",
      "2          50000            0       46            0\n",
      "3          50000            0       85            0\n",
      "4          50000            0       39            0\n",
      "...          ...          ...      ...          ...\n",
      "999990    149999            0       86            0\n",
      "999991    149999            0       11            0\n",
      "999992    149999            0       32            0\n",
      "999993    149999            0      106            0\n",
      "999994    149999            0       28            0\n",
      "\n",
      "[500000 rows x 4 columns]\n"
     ]
    }
   ],
   "source": [
    "print(partida)"
   ]
  },
  {
   "cell_type": "markdown",
   "metadata": {},
   "source": [
    "Pode-se ver que o número de registros caiu pela metade.\n",
    "Agora já não precisamos mais das colunas \"radiant_win\" e \"player_slot\""
   ]
  },
  {
   "cell_type": "code",
   "execution_count": 76,
   "metadata": {},
   "outputs": [],
   "source": [
    "partida = partida.drop(['radiant_win'],axis=1)\n",
    "partida = partida.drop(['player_slot'],axis=1)"
   ]
  },
  {
   "cell_type": "code",
   "execution_count": 77,
   "metadata": {},
   "outputs": [
    {
     "name": "stdout",
     "output_type": "stream",
     "text": [
      "        match_id  hero_id\n",
      "0          50000       96\n",
      "1          50000       84\n",
      "2          50000       46\n",
      "3          50000       85\n",
      "4          50000       39\n",
      "...          ...      ...\n",
      "999990    149999       86\n",
      "999991    149999       11\n",
      "999992    149999       32\n",
      "999993    149999      106\n",
      "999994    149999       28\n",
      "\n",
      "[500000 rows x 2 columns]\n"
     ]
    }
   ],
   "source": [
    "print(partida)"
   ]
  },
  {
   "cell_type": "markdown",
   "metadata": {},
   "source": [
    "## 5.3 - Mesclando nosso dataframe com a base de nome dos heróis\n",
    "O arquivo \"nomesHerois.csv\" contém o id relacionado ao nome do herói do jogo"
   ]
  },
  {
   "cell_type": "code",
   "execution_count": 78,
   "metadata": {},
   "outputs": [
    {
     "data": {
      "text/html": [
       "<div>\n",
       "<style scoped>\n",
       "    .dataframe tbody tr th:only-of-type {\n",
       "        vertical-align: middle;\n",
       "    }\n",
       "\n",
       "    .dataframe tbody tr th {\n",
       "        vertical-align: top;\n",
       "    }\n",
       "\n",
       "    .dataframe thead th {\n",
       "        text-align: right;\n",
       "    }\n",
       "</style>\n",
       "<table border=\"1\" class=\"dataframe\">\n",
       "  <thead>\n",
       "    <tr style=\"text-align: right;\">\n",
       "      <th></th>\n",
       "      <th>hero_id</th>\n",
       "      <th>localized_name</th>\n",
       "    </tr>\n",
       "  </thead>\n",
       "  <tbody>\n",
       "    <tr>\n",
       "      <th>0</th>\n",
       "      <td>1</td>\n",
       "      <td>Anti-Mage</td>\n",
       "    </tr>\n",
       "    <tr>\n",
       "      <th>1</th>\n",
       "      <td>2</td>\n",
       "      <td>Axe</td>\n",
       "    </tr>\n",
       "    <tr>\n",
       "      <th>2</th>\n",
       "      <td>3</td>\n",
       "      <td>Bane</td>\n",
       "    </tr>\n",
       "    <tr>\n",
       "      <th>3</th>\n",
       "      <td>4</td>\n",
       "      <td>Bloodseeker</td>\n",
       "    </tr>\n",
       "    <tr>\n",
       "      <th>4</th>\n",
       "      <td>5</td>\n",
       "      <td>Crystal Maiden</td>\n",
       "    </tr>\n",
       "  </tbody>\n",
       "</table>\n",
       "</div>"
      ],
      "text/plain": [
       "   hero_id  localized_name\n",
       "0        1       Anti-Mage\n",
       "1        2             Axe\n",
       "2        3            Bane\n",
       "3        4     Bloodseeker\n",
       "4        5  Crystal Maiden"
      ]
     },
     "execution_count": 78,
     "metadata": {},
     "output_type": "execute_result"
    }
   ],
   "source": [
    "nomesHerois = pd.read_csv('nomesHerois.csv')\n",
    "nomesHerois = nomesHerois.drop(['name'],axis=1)\n",
    "nomesHerois.head()"
   ]
  },
  {
   "cell_type": "markdown",
   "metadata": {},
   "source": [
    "Agora podemos fazer o join, dessa forma teremos o nome do herói usado na partida derrotada"
   ]
  },
  {
   "cell_type": "code",
   "execution_count": 79,
   "metadata": {},
   "outputs": [
    {
     "data": {
      "text/html": [
       "<div>\n",
       "<style scoped>\n",
       "    .dataframe tbody tr th:only-of-type {\n",
       "        vertical-align: middle;\n",
       "    }\n",
       "\n",
       "    .dataframe tbody tr th {\n",
       "        vertical-align: top;\n",
       "    }\n",
       "\n",
       "    .dataframe thead th {\n",
       "        text-align: right;\n",
       "    }\n",
       "</style>\n",
       "<table border=\"1\" class=\"dataframe\">\n",
       "  <thead>\n",
       "    <tr style=\"text-align: right;\">\n",
       "      <th></th>\n",
       "      <th>match_id</th>\n",
       "      <th>hero_id</th>\n",
       "      <th>localized_name</th>\n",
       "    </tr>\n",
       "  </thead>\n",
       "  <tbody>\n",
       "    <tr>\n",
       "      <th>0</th>\n",
       "      <td>50000</td>\n",
       "      <td>96</td>\n",
       "      <td>Centaur Warrunner</td>\n",
       "    </tr>\n",
       "    <tr>\n",
       "      <th>1</th>\n",
       "      <td>50000</td>\n",
       "      <td>84</td>\n",
       "      <td>Ogre Magi</td>\n",
       "    </tr>\n",
       "    <tr>\n",
       "      <th>2</th>\n",
       "      <td>50000</td>\n",
       "      <td>46</td>\n",
       "      <td>Templar Assassin</td>\n",
       "    </tr>\n",
       "    <tr>\n",
       "      <th>3</th>\n",
       "      <td>50000</td>\n",
       "      <td>85</td>\n",
       "      <td>Undying</td>\n",
       "    </tr>\n",
       "    <tr>\n",
       "      <th>4</th>\n",
       "      <td>50000</td>\n",
       "      <td>39</td>\n",
       "      <td>Queen of Pain</td>\n",
       "    </tr>\n",
       "  </tbody>\n",
       "</table>\n",
       "</div>"
      ],
      "text/plain": [
       "   match_id  hero_id     localized_name\n",
       "0     50000       96  Centaur Warrunner\n",
       "1     50000       84          Ogre Magi\n",
       "2     50000       46   Templar Assassin\n",
       "3     50000       85            Undying\n",
       "4     50000       39      Queen of Pain"
      ]
     },
     "execution_count": 79,
     "metadata": {},
     "output_type": "execute_result"
    }
   ],
   "source": [
    "partida = pd.merge(partida, nomesHerois, how='left', left_on='hero_id', right_on='hero_id')\n",
    "partida.head()"
   ]
  },
  {
   "cell_type": "markdown",
   "metadata": {},
   "source": [
    "Usando a função groupby em conjunto com a função apply, é possível agrupar as partidas (por id) e listar os heróis utilizados na mesma.\n",
    "Nesse momento, separei em duas bases de dados, uma que vai alimentar meu grafo (por id), outra para apenas curiosidade da listagem de heróis)"
   ]
  },
  {
   "cell_type": "code",
   "execution_count": 80,
   "metadata": {},
   "outputs": [],
   "source": [
    "derrotadosPorID = partida.groupby('match_id')['hero_id'].apply(list).reset_index(name='timeDerrotado')"
   ]
  },
  {
   "cell_type": "code",
   "execution_count": 81,
   "metadata": {},
   "outputs": [
    {
     "data": {
      "text/html": [
       "<div>\n",
       "<style scoped>\n",
       "    .dataframe tbody tr th:only-of-type {\n",
       "        vertical-align: middle;\n",
       "    }\n",
       "\n",
       "    .dataframe tbody tr th {\n",
       "        vertical-align: top;\n",
       "    }\n",
       "\n",
       "    .dataframe thead th {\n",
       "        text-align: right;\n",
       "    }\n",
       "</style>\n",
       "<table border=\"1\" class=\"dataframe\">\n",
       "  <thead>\n",
       "    <tr style=\"text-align: right;\">\n",
       "      <th></th>\n",
       "      <th>match_id</th>\n",
       "      <th>timeDerrotado</th>\n",
       "    </tr>\n",
       "  </thead>\n",
       "  <tbody>\n",
       "    <tr>\n",
       "      <th>0</th>\n",
       "      <td>50000</td>\n",
       "      <td>[96, 84, 46, 85, 39]</td>\n",
       "    </tr>\n",
       "    <tr>\n",
       "      <th>1</th>\n",
       "      <td>50001</td>\n",
       "      <td>[58, 61, 21, 18, 14]</td>\n",
       "    </tr>\n",
       "    <tr>\n",
       "      <th>2</th>\n",
       "      <td>50002</td>\n",
       "      <td>[74, 7, 42, 99, 88]</td>\n",
       "    </tr>\n",
       "    <tr>\n",
       "      <th>3</th>\n",
       "      <td>50003</td>\n",
       "      <td>[2, 101, 32, 7, 72]</td>\n",
       "    </tr>\n",
       "    <tr>\n",
       "      <th>4</th>\n",
       "      <td>50004</td>\n",
       "      <td>[98, 26, 73, 51, 46]</td>\n",
       "    </tr>\n",
       "  </tbody>\n",
       "</table>\n",
       "</div>"
      ],
      "text/plain": [
       "   match_id         timeDerrotado\n",
       "0     50000  [96, 84, 46, 85, 39]\n",
       "1     50001  [58, 61, 21, 18, 14]\n",
       "2     50002   [74, 7, 42, 99, 88]\n",
       "3     50003   [2, 101, 32, 7, 72]\n",
       "4     50004  [98, 26, 73, 51, 46]"
      ]
     },
     "execution_count": 81,
     "metadata": {},
     "output_type": "execute_result"
    }
   ],
   "source": [
    "#derrotadosPorID = derrotadosPorID.drop(['match_id'],axis=1)\n",
    "derrotadosPorID.head()"
   ]
  },
  {
   "cell_type": "code",
   "execution_count": 82,
   "metadata": {},
   "outputs": [],
   "source": [
    "derrotadosPorNome = partida.groupby('match_id')['localized_name'].apply(list).reset_index(name='timeDerrotado')"
   ]
  },
  {
   "cell_type": "code",
   "execution_count": 83,
   "metadata": {},
   "outputs": [
    {
     "data": {
      "text/html": [
       "<div>\n",
       "<style scoped>\n",
       "    .dataframe tbody tr th:only-of-type {\n",
       "        vertical-align: middle;\n",
       "    }\n",
       "\n",
       "    .dataframe tbody tr th {\n",
       "        vertical-align: top;\n",
       "    }\n",
       "\n",
       "    .dataframe thead th {\n",
       "        text-align: right;\n",
       "    }\n",
       "</style>\n",
       "<table border=\"1\" class=\"dataframe\">\n",
       "  <thead>\n",
       "    <tr style=\"text-align: right;\">\n",
       "      <th></th>\n",
       "      <th>match_id</th>\n",
       "      <th>timeDerrotado</th>\n",
       "    </tr>\n",
       "  </thead>\n",
       "  <tbody>\n",
       "    <tr>\n",
       "      <th>0</th>\n",
       "      <td>50000</td>\n",
       "      <td>[Centaur Warrunner, Ogre Magi, Templar Assassi...</td>\n",
       "    </tr>\n",
       "    <tr>\n",
       "      <th>1</th>\n",
       "      <td>50001</td>\n",
       "      <td>[Enchantress, Broodmother, Windranger, Sven, P...</td>\n",
       "    </tr>\n",
       "    <tr>\n",
       "      <th>2</th>\n",
       "      <td>50002</td>\n",
       "      <td>[Invoker, Earthshaker, Wraith King, Bristlebac...</td>\n",
       "    </tr>\n",
       "    <tr>\n",
       "      <th>3</th>\n",
       "      <td>50003</td>\n",
       "      <td>[Axe, Skywrath Mage, Riki, Earthshaker, Gyroco...</td>\n",
       "    </tr>\n",
       "    <tr>\n",
       "      <th>4</th>\n",
       "      <td>50004</td>\n",
       "      <td>[Timbersaw, Lion, Alchemist, Clockwerk, Templa...</td>\n",
       "    </tr>\n",
       "  </tbody>\n",
       "</table>\n",
       "</div>"
      ],
      "text/plain": [
       "   match_id                                      timeDerrotado\n",
       "0     50000  [Centaur Warrunner, Ogre Magi, Templar Assassi...\n",
       "1     50001  [Enchantress, Broodmother, Windranger, Sven, P...\n",
       "2     50002  [Invoker, Earthshaker, Wraith King, Bristlebac...\n",
       "3     50003  [Axe, Skywrath Mage, Riki, Earthshaker, Gyroco...\n",
       "4     50004  [Timbersaw, Lion, Alchemist, Clockwerk, Templa..."
      ]
     },
     "execution_count": 83,
     "metadata": {},
     "output_type": "execute_result"
    }
   ],
   "source": [
    "#derrotadosPorNome = derrotadosPorNome.drop(['match_id'],axis=1)\n",
    "derrotadosPorNome.head()"
   ]
  },
  {
   "cell_type": "code",
   "execution_count": 52,
   "metadata": {},
   "outputs": [],
   "source": [
    "#derrotadosPorID.to_csv('derrotadorPorID.csv')\n",
    "#derrotadosPorNome.to_csv('derrotadorPorNome.csv')"
   ]
  },
  {
   "cell_type": "markdown",
   "metadata": {},
   "source": [
    "# 6 - Próximos passos\n",
    "Ao fim deste código, temos duas base de dados, a que servirá de entrada para o grafo é a 'derrotadosPorID', ela basicamente contém uma lista de cinco heróis derrotados em conjunto.\n",
    "A outra base criada 'derrotadosPorNome' foi mais por curiosidade para enxergar os heróis em times. <p>\n",
    "Como próximo passo utilizarei a base de derrotados em um grafo, dessa forma será possível analisar diversas características dessa base de dados, como, quais heróis tem maior índice de derrotas em conjunto, quais heróis não perdem jogando junto e outras."
   ]
  },
  {
   "cell_type": "code",
   "execution_count": 84,
   "metadata": {},
   "outputs": [],
   "source": [
    "vencedores = vencedores.drop(vencedores[(vencedores.radiant_win == 0) & (vencedores.player_slot == 0)].index)\n",
    "vencedores = vencedores.drop(vencedores[(vencedores.radiant_win == 1) & (vencedores.player_slot == 1)].index)"
   ]
  },
  {
   "cell_type": "code",
   "execution_count": 85,
   "metadata": {},
   "outputs": [
    {
     "name": "stdout",
     "output_type": "stream",
     "text": [
      "        match_id  radiant_win  hero_id  player_slot\n",
      "5          50000            0        9            1\n",
      "6          50000            0       75            1\n",
      "7          50000            0      106            1\n",
      "8          50000            0       74            1\n",
      "9          50000            0       62            1\n",
      "...          ...          ...      ...          ...\n",
      "999995    149999            0       74            1\n",
      "999996    149999            0        8            1\n",
      "999997    149999            0       50            1\n",
      "999998    149999            0       55            1\n",
      "999999    149999            0       62            1\n",
      "\n",
      "[500000 rows x 4 columns]\n"
     ]
    }
   ],
   "source": [
    "print(vencedores)"
   ]
  },
  {
   "cell_type": "code",
   "execution_count": 86,
   "metadata": {},
   "outputs": [],
   "source": [
    "vencedores = vencedores.drop(['radiant_win'],axis=1)\n",
    "vencedores = vencedores.drop(['player_slot'],axis=1)"
   ]
  },
  {
   "cell_type": "code",
   "execution_count": 87,
   "metadata": {},
   "outputs": [
    {
     "name": "stdout",
     "output_type": "stream",
     "text": [
      "        match_id  hero_id\n",
      "5          50000        9\n",
      "6          50000       75\n",
      "7          50000      106\n",
      "8          50000       74\n",
      "9          50000       62\n",
      "...          ...      ...\n",
      "999995    149999       74\n",
      "999996    149999        8\n",
      "999997    149999       50\n",
      "999998    149999       55\n",
      "999999    149999       62\n",
      "\n",
      "[500000 rows x 2 columns]\n"
     ]
    }
   ],
   "source": [
    "print(vencedores)"
   ]
  },
  {
   "cell_type": "code",
   "execution_count": 88,
   "metadata": {},
   "outputs": [],
   "source": [
    "vencedoresPorID = vencedores.groupby('match_id')['hero_id'].apply(list).reset_index(name='timeVencedor')"
   ]
  },
  {
   "cell_type": "code",
   "execution_count": 89,
   "metadata": {},
   "outputs": [
    {
     "data": {
      "text/html": [
       "<div>\n",
       "<style scoped>\n",
       "    .dataframe tbody tr th:only-of-type {\n",
       "        vertical-align: middle;\n",
       "    }\n",
       "\n",
       "    .dataframe tbody tr th {\n",
       "        vertical-align: top;\n",
       "    }\n",
       "\n",
       "    .dataframe thead th {\n",
       "        text-align: right;\n",
       "    }\n",
       "</style>\n",
       "<table border=\"1\" class=\"dataframe\">\n",
       "  <thead>\n",
       "    <tr style=\"text-align: right;\">\n",
       "      <th></th>\n",
       "      <th>match_id</th>\n",
       "      <th>timeVencedor</th>\n",
       "    </tr>\n",
       "  </thead>\n",
       "  <tbody>\n",
       "    <tr>\n",
       "      <th>0</th>\n",
       "      <td>50000</td>\n",
       "      <td>[9, 75, 106, 74, 62]</td>\n",
       "    </tr>\n",
       "    <tr>\n",
       "      <th>1</th>\n",
       "      <td>50001</td>\n",
       "      <td>[44, 10, 57, 2, 106]</td>\n",
       "    </tr>\n",
       "    <tr>\n",
       "      <th>2</th>\n",
       "      <td>50002</td>\n",
       "      <td>[69, 8, 25, 26, 79]</td>\n",
       "    </tr>\n",
       "    <tr>\n",
       "      <th>3</th>\n",
       "      <td>50003</td>\n",
       "      <td>[44, 15, 110, 56, 94]</td>\n",
       "    </tr>\n",
       "    <tr>\n",
       "      <th>4</th>\n",
       "      <td>50004</td>\n",
       "      <td>[2, 106, 50, 65, 21]</td>\n",
       "    </tr>\n",
       "  </tbody>\n",
       "</table>\n",
       "</div>"
      ],
      "text/plain": [
       "   match_id           timeVencedor\n",
       "0     50000   [9, 75, 106, 74, 62]\n",
       "1     50001   [44, 10, 57, 2, 106]\n",
       "2     50002    [69, 8, 25, 26, 79]\n",
       "3     50003  [44, 15, 110, 56, 94]\n",
       "4     50004   [2, 106, 50, 65, 21]"
      ]
     },
     "execution_count": 89,
     "metadata": {},
     "output_type": "execute_result"
    }
   ],
   "source": [
    "vencedoresPorID.head()"
   ]
  },
  {
   "cell_type": "code",
   "execution_count": 90,
   "metadata": {},
   "outputs": [
    {
     "data": {
      "text/html": [
       "<div>\n",
       "<style scoped>\n",
       "    .dataframe tbody tr th:only-of-type {\n",
       "        vertical-align: middle;\n",
       "    }\n",
       "\n",
       "    .dataframe tbody tr th {\n",
       "        vertical-align: top;\n",
       "    }\n",
       "\n",
       "    .dataframe thead th {\n",
       "        text-align: right;\n",
       "    }\n",
       "</style>\n",
       "<table border=\"1\" class=\"dataframe\">\n",
       "  <thead>\n",
       "    <tr style=\"text-align: right;\">\n",
       "      <th></th>\n",
       "      <th>match_id</th>\n",
       "      <th>timeVencedor</th>\n",
       "      <th>timeDerrotado</th>\n",
       "    </tr>\n",
       "  </thead>\n",
       "  <tbody>\n",
       "    <tr>\n",
       "      <th>0</th>\n",
       "      <td>50000</td>\n",
       "      <td>[9, 75, 106, 74, 62]</td>\n",
       "      <td>[96, 84, 46, 85, 39]</td>\n",
       "    </tr>\n",
       "    <tr>\n",
       "      <th>1</th>\n",
       "      <td>50001</td>\n",
       "      <td>[44, 10, 57, 2, 106]</td>\n",
       "      <td>[58, 61, 21, 18, 14]</td>\n",
       "    </tr>\n",
       "    <tr>\n",
       "      <th>2</th>\n",
       "      <td>50002</td>\n",
       "      <td>[69, 8, 25, 26, 79]</td>\n",
       "      <td>[74, 7, 42, 99, 88]</td>\n",
       "    </tr>\n",
       "    <tr>\n",
       "      <th>3</th>\n",
       "      <td>50003</td>\n",
       "      <td>[44, 15, 110, 56, 94]</td>\n",
       "      <td>[2, 101, 32, 7, 72]</td>\n",
       "    </tr>\n",
       "    <tr>\n",
       "      <th>4</th>\n",
       "      <td>50004</td>\n",
       "      <td>[2, 106, 50, 65, 21]</td>\n",
       "      <td>[98, 26, 73, 51, 46]</td>\n",
       "    </tr>\n",
       "  </tbody>\n",
       "</table>\n",
       "</div>"
      ],
      "text/plain": [
       "   match_id           timeVencedor         timeDerrotado\n",
       "0     50000   [9, 75, 106, 74, 62]  [96, 84, 46, 85, 39]\n",
       "1     50001   [44, 10, 57, 2, 106]  [58, 61, 21, 18, 14]\n",
       "2     50002    [69, 8, 25, 26, 79]   [74, 7, 42, 99, 88]\n",
       "3     50003  [44, 15, 110, 56, 94]   [2, 101, 32, 7, 72]\n",
       "4     50004   [2, 106, 50, 65, 21]  [98, 26, 73, 51, 46]"
      ]
     },
     "execution_count": 90,
     "metadata": {},
     "output_type": "execute_result"
    }
   ],
   "source": [
    "dfFinal = pd.merge(vencedoresPorID, derrotadosPorID, how='left', left_on='match_id', right_on='match_id')\n",
    "dfFinal.head()"
   ]
  },
  {
   "cell_type": "code",
   "execution_count": 91,
   "metadata": {},
   "outputs": [],
   "source": [
    "dfFinal = dfFinal.drop(['match_id'],axis=1)"
   ]
  },
  {
   "cell_type": "code",
   "execution_count": 92,
   "metadata": {},
   "outputs": [],
   "source": [
    "dfFinal.to_csv('vitoriaDerrota.csv')"
   ]
  },
  {
   "cell_type": "code",
   "execution_count": null,
   "metadata": {},
   "outputs": [],
   "source": []
  }
 ],
 "metadata": {
  "kernelspec": {
   "display_name": "Python 3",
   "language": "python",
   "name": "python3"
  },
  "language_info": {
   "codemirror_mode": {
    "name": "ipython",
    "version": 3
   },
   "file_extension": ".py",
   "mimetype": "text/x-python",
   "name": "python",
   "nbconvert_exporter": "python",
   "pygments_lexer": "ipython3",
   "version": "3.7.6"
  }
 },
 "nbformat": 4,
 "nbformat_minor": 4
}
