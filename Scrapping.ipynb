{
 "cells": [
  {
   "cell_type": "markdown",
   "metadata": {},
   "source": [
    "# <center> $\\underline{\\textbf{AAG02 - Scraping}}$ <p><center> Flávio Motta"
   ]
  },
  {
   "cell_type": "markdown",
   "metadata": {},
   "source": [
    "## $\\textbf{1. Importando Bibliotecas}$"
   ]
  },
  {
   "cell_type": "code",
   "execution_count": 1,
   "metadata": {},
   "outputs": [],
   "source": [
    "import requests\n",
    "import matplotlib.pyplot as plt\n",
    "import seaborn as sns\n",
    "import numpy as np\n",
    "import pandas as pd\n",
    "import statsmodels.api as sm\n",
    "\n",
    "from urllib import request, response, error, parse\n",
    "from urllib.request import urlopen\n",
    "from bs4 import BeautifulSoup"
   ]
  },
  {
   "cell_type": "markdown",
   "metadata": {},
   "source": [
    "## $\\textbf{2. Preparando o soup}$"
   ]
  },
  {
   "cell_type": "markdown",
   "metadata": {},
   "source": [
    "Nessa etapa, selecionei um site de cotação de ações brasileiras."
   ]
  },
  {
   "cell_type": "code",
   "execution_count": 3,
   "metadata": {},
   "outputs": [],
   "source": [
    "url = 'https://www.infomoney.com.br/cotacoes/ibovespa/'\n",
    "html = urlopen(url)\n",
    "soup = BeautifulSoup(html,'lxml')\n",
    "title = soup.title.string"
   ]
  },
  {
   "cell_type": "markdown",
   "metadata": {},
   "source": [
    "## $\\textbf{3. Realizando o scraping}$"
   ]
  },
  {
   "cell_type": "markdown",
   "metadata": {},
   "source": [
    "### 3.1. Busca e tratamento dos dados"
   ]
  },
  {
   "cell_type": "markdown",
   "metadata": {},
   "source": [
    "<p>Inicialmente foi feita a inspeção da página em si, após isso, identifiquei o id \"high\" como sendo o id da tabela que contém todas cotações.\n",
    "<p>Indo contra boas práticas de programação, o site contém dois elementos HTML com mesmo ID, dessa forma tive que determinar que estava buscando uma tabela com id \"high\".\n",
    "<p>Logo em seguida o código navega na tabela procurando todas as linhas (tag 'tr'), e após isso, procura todas as tags de âncora (tag 'a'), essas tags âncora contém o nome do ticker da ação que está sendo descrita na linha\n",
    "<p>Em seguida o código busca todas células td da linha tr, como a primeira linha não contém dados (é uma linha de cabeçalho) a condicional if foi adicionada para verificar se a variável declarada contém valores adicionados.\n",
    "<p>Caso contenha, significa que é um ticker e que tem valores associados, dessa forma consigo recuperar os dados que desejo trabalhar.\n",
    "    "
   ]
  },
  {
   "cell_type": "code",
   "execution_count": 17,
   "metadata": {},
   "outputs": [
    {
     "name": "stdout",
     "output_type": "stream",
     "text": [
      " \n",
      "ABEV3 0\n",
      "AZUL4 0.56\n",
      "B3SA3 3.11\n",
      "BBAS3 0.99\n",
      "BBDC3 2.87\n",
      "BBDC4 2.4\n",
      "BBSE3 1.98\n",
      "BPAC11 2.05\n",
      "BRAP4 1.56\n",
      "BRDT3 1.65\n",
      "BRFS3 2.34\n",
      "BRKM5 6.72\n",
      "BRML3 0.47\n",
      "BTOW3 0.6\n",
      "CCRO3 1.2\n",
      "CIEL3 2.11\n",
      "CMIG4 0.89\n",
      "COGN3 0.13\n",
      "CRFB3 2.21\n",
      "CSAN3 2.46\n",
      "CSNA3 3.84\n",
      "CYRE3 3.67\n",
      "ECOR3 2.02\n",
      "EGIE3 1.05\n",
      "ELET3 1.31\n",
      "ELET6 1.26\n",
      "ENBR3 1.98\n",
      "ENGI11 0.34\n",
      "EQTL3 0.12\n",
      "FLRY3 1.2\n",
      "GGBR4 1.65\n",
      "GOAU4 2.07\n",
      "HAPV3 1.08\n",
      "HGTX3 0.07\n",
      "HYPE3 1.21\n",
      "ITSA4 1.5\n",
      "ITUB4 1.59\n",
      "KLBN11 1.99\n",
      "LAME4 0.69\n",
      "LREN3 2.06\n",
      "MGLU3 1.2\n",
      "MRVE3 2.59\n",
      "NTCO3 4.16\n",
      "PCAR3 0.93\n",
      "PETR3 1.8\n",
      "PETR4 1.21\n",
      "QUAL3 2.85\n",
      "RADL3 0.18\n",
      "RAIL3 0.3\n",
      "RENT3 0.11\n",
      "SANB11 1.65\n",
      "SBSP3 1.02\n",
      "SULA11 0.78\n",
      "SUZB3 0.72\n",
      "TIMP3 2.14\n",
      "TOTS3 1.39\n",
      "UGPA3 4.05\n",
      "USIM5 3.49\n",
      "VALE3 1.21\n",
      "VIVT4 0.95\n",
      "VVAR3 2.9\n",
      "WEGE3 0.3\n",
      "YDUQ3 0.76\n"
     ]
    }
   ],
   "source": [
    "cotacoes = soup.find_all('table', id=\"high\")\n",
    "subidas = np.empty((0,1))\n",
    "for elemento in cotacoes:\n",
    "    linha = elemento.find_all('tr')\n",
    "    for x in linha:\n",
    "        data = x.find_all('a')\n",
    "        textoTicker = ''\n",
    "        textoValor = ''\n",
    "        for ticker in data:\n",
    "            textoTicker = ticker.get_text()\n",
    "        dado = x.find_all('td')\n",
    "        if len(dado) > 1:\n",
    "            textoValor = dado[2].get_text()\n",
    "            subidas = np.append(subidas,float(textoValor))\n",
    "        print(textoTicker + ' ' +textoValor)"
   ]
  },
  {
   "cell_type": "markdown",
   "metadata": {},
   "source": [
    "Agora tenho um vetor chamado subidas que armazena as porcentagens de subida em um dia, dessa forma consigo plotar usando uma PDF a distribuição das subidas do dia."
   ]
  },
  {
   "cell_type": "code",
   "execution_count": 23,
   "metadata": {},
   "outputs": [
    {
     "data": {
      "text/plain": [
       "[<matplotlib.axis.XTick at 0x20e33d53dc8>,\n",
       " <matplotlib.axis.XTick at 0x20e33d66448>,\n",
       " <matplotlib.axis.XTick at 0x20e33c1ff48>,\n",
       " <matplotlib.axis.XTick at 0x20e33ba63c8>,\n",
       " <matplotlib.axis.XTick at 0x20e3367ce88>,\n",
       " <matplotlib.axis.XTick at 0x20e33675c08>,\n",
       " <matplotlib.axis.XTick at 0x20e339b2508>]"
      ]
     },
     "execution_count": 23,
     "metadata": {},
     "output_type": "execute_result"
    },
    {
     "data": {
      "image/png": "[encoded data removed]",
      "text/plain": [
       "<Figure size 432x288 with 1 Axes>"
      ]
     },
     "metadata": {
      "needs_background": "light"
     },
     "output_type": "display_data"
    }
   ],
   "source": [
    "# insiro a amostra num dataframe e ploto a PDF usando o pandas (esse método é o correto: não normaliza amostra)\n",
    "df_amostra = pd.DataFrame({'':subidas})\n",
    "ax = df_amostra.plot(kind='hist', density=True, histtype='bar', rwidth=1,\n",
    "                     xlim=(min(subidas)-0.05, max(subidas)+0.05), ylim=(0,1), \n",
    "                     legend=False, bins=np.arange(len(subidas))-0.5)\n",
    "ax.set_xlabel(r'$Ticker~x$')\n",
    "ax.set_ylabel(r'$F(X)$')\n",
    "\n",
    "# configurando xticks e, caso o gráfico comece com x negativo, usando axvline passando pela origem \n",
    "lim_min = int(round(min(subidas)))\n",
    "if lim_min >= 0: \n",
    "    lim_min = 0\n",
    "else:\n",
    "    ax.axvline(0,color='black',lw=1, linestyle=':')\n",
    "ax.set_xticks(range(lim_min,int(round(max(subidas)))))"
   ]
  }
 ],
 "metadata": {
  "kernelspec": {
   "display_name": "Python 3",
   "language": "python",
   "name": "python3"
  },
  "language_info": {
   "codemirror_mode": {
    "name": "ipython",
    "version": 3
   },
   "file_extension": ".py",
   "mimetype": "text/x-python",
   "name": "python",
   "nbconvert_exporter": "python",
   "pygments_lexer": "ipython3",
   "version": "3.7.6"
  }
 },
 "nbformat": 4,
 "nbformat_minor": 4
}
